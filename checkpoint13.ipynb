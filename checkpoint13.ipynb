{
 "cells": [
  {
   "cell_type": "code",
   "execution_count": 2,
   "id": "985e7e00",
   "metadata": {},
   "outputs": [
    {
     "name": "stdout",
     "output_type": "stream",
     "text": [
      "Enter the time in seconds: 3\n",
      "fire in the hotel\n"
     ]
    }
   ],
   "source": [
    "#conmpteur\n",
    "import time\n",
    "t = input(\"Enter the time in seconds: \") \n",
    "def countdown(t):\n",
    "    while t:\n",
    "        mins, secs = divmod(t,60) \n",
    "        timer=(\"{}:{}\".format(mins,secs))\n",
    "        print(timer,end=\" \\r\")\n",
    "        time.sleep(1)\n",
    "        t=t-1\n",
    "    print(\"fire in the hotel\")\n",
    "        \n",
    "countdown(int(t))"
   ]
  },
  {
   "cell_type": "code",
   "execution_count": null,
   "id": "3c0ca5fb",
   "metadata": {},
   "outputs": [],
   "source": []
  }
 ],
 "metadata": {
  "kernelspec": {
   "display_name": "Python 3",
   "language": "python",
   "name": "python3"
  },
  "language_info": {
   "codemirror_mode": {
    "name": "ipython",
    "version": 3
   },
   "file_extension": ".py",
   "mimetype": "text/x-python",
   "name": "python",
   "nbconvert_exporter": "python",
   "pygments_lexer": "ipython3",
   "version": "3.8.8"
  }
 },
 "nbformat": 4,
 "nbformat_minor": 5
}
