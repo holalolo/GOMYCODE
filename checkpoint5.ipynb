{
 "cells": [
  {
   "cell_type": "code",
   "execution_count": 1,
   "id": "7d2bc342",
   "metadata": {},
   "outputs": [
    {
     "name": "stdout",
     "output_type": "stream",
     "text": [
      "tapez x: 4\n",
      "tapez y: 5\n",
      "tapez z: 2\n",
      "('4', '5', '2')\n"
     ]
    }
   ],
   "source": [
    "#exercice1\n",
    "x=input(\"tapez x: \")\n",
    "y=input(\"tapez y: \")\n",
    "z=input(\"tapez z: \")\n",
    "class Point3D():\n",
    "    def __init__(self,x ,y, z):\n",
    "        print(tuple([x,y,z]))\n",
    "my_point=Point3D(x,y,z)"
   ]
  },
  {
   "cell_type": "code",
   "execution_count": 2,
   "id": "48457c62",
   "metadata": {},
   "outputs": [
    {
     "name": "stdout",
     "output_type": "stream",
     "text": [
      "12\n",
      "14\n"
     ]
    }
   ],
   "source": [
    "#exercice2\n",
    "class  my_rectangle():\n",
    "    def __init__(self,l,w):\n",
    "        self.l=l\n",
    "        self.w=w\n",
    "    def rectangle_area(self):\n",
    "        return self.l*self.w\n",
    "    def rectangle_perimeter(self):\n",
    "        return (self.l+self.w)*2\n",
    "newrectangle = my_rectangle(4,3)\n",
    "print(newrectangle.rectangle_area())\n",
    "print(newrectangle.rectangle_perimeter())"
   ]
  },
  {
   "cell_type": "code",
   "execution_count": 3,
   "id": "92b948e2",
   "metadata": {},
   "outputs": [
    {
     "name": "stdout",
     "output_type": "stream",
     "text": [
      "200.96\n",
      "50.24\n"
     ]
    }
   ],
   "source": [
    "#exercice3\n",
    "class  Circle():\n",
    "    def __init__(self,r):\n",
    "        self.radius=r\n",
    "    def area(self):\n",
    "        return self.radius**2*3.14\n",
    "    def perimeter(self):\n",
    "        return 2*self.radius*3.14\n",
    "\n",
    "NewCircle = Circle(8)\n",
    "print(NewCircle.area())\n",
    "print(NewCircle.perimeter())"
   ]
  },
  {
   "cell_type": "code",
   "execution_count": 5,
   "id": "c243f9c7",
   "metadata": {},
   "outputs": [
    {
     "name": "stdout",
     "output_type": "stream",
     "text": [
      "tapez votre solde: 500\n",
      "tapez le montant entré: 200\n",
      "tapez le montant sortis: 200\n",
      "700.0\n",
      "300.0\n"
     ]
    }
   ],
   "source": [
    "#exercice4\n",
    "a=float(input(\"tapez votre solde: \"))\n",
    "x=float(input(\"tapez le montant entré: \"))\n",
    "y=float(input(\"tapez le montant sortis: \"))\n",
    "class Bank():\n",
    "    def __init__(self,a):\n",
    "        self.amount=a\n",
    "    def deposit(self):\n",
    "        return self.amount+x\n",
    "    def withdraw(self):\n",
    "        return self.amount-y\n",
    "newbank=Bank(a)\n",
    "print(newbank.deposit())\n",
    "print(newbank.withdraw())"
   ]
  }
 ],
 "metadata": {
  "kernelspec": {
   "display_name": "Python 3",
   "language": "python",
   "name": "python3"
  },
  "language_info": {
   "codemirror_mode": {
    "name": "ipython",
    "version": 3
   },
   "file_extension": ".py",
   "mimetype": "text/x-python",
   "name": "python",
   "nbconvert_exporter": "python",
   "pygments_lexer": "ipython3",
   "version": "3.8.8"
  }
 },
 "nbformat": 4,
 "nbformat_minor": 5
}
