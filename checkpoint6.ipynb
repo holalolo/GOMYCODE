{
 "cells": [
  {
   "cell_type": "code",
   "execution_count": 3,
   "id": "33ab978a",
   "metadata": {},
   "outputs": [
    {
     "name": "stdout",
     "output_type": "stream",
     "text": [
      "[[0, 1, 2], [3, 4, 5], [6, 7, 8]]\n"
     ]
    }
   ],
   "source": [
    "#exercice1\n",
    "import numpy as np\n",
    "a = np.array([[0,1,2],[3,4,5],[6,7,8]])\n",
    "b=a.tolist()\n",
    "print(b)"
   ]
  },
  {
   "cell_type": "code",
   "execution_count": 4,
   "id": "a9ba5bff",
   "metadata": {},
   "outputs": [
    {
     "name": "stdout",
     "output_type": "stream",
     "text": [
      "[[0 1 2]\n",
      " [3 4 5]\n",
      " [6 7 8]]\n",
      "12\n"
     ]
    }
   ],
   "source": [
    "#exercice2\n",
    "import numpy as np\n",
    "a = np.array([[0,1,2],[3,4,5],[6,7,8]])\n",
    "r=np.trace(a)\n",
    "print(a)\n",
    "print(r)"
   ]
  },
  {
   "cell_type": "code",
   "execution_count": 6,
   "id": "6d419c06",
   "metadata": {},
   "outputs": [
    {
     "name": "stdout",
     "output_type": "stream",
     "text": [
      "choisisez un nombre2\n",
      "[3 8 5 7 6 8]\n"
     ]
    }
   ],
   "source": [
    "#exercice3\n",
    "import numpy as np\n",
    "a = np.array([[3,8,5],[0,7,2],[6,1,8]])\n",
    "y=int(input(\"choisisez un nombre\"))\n",
    "r=a[a>y]\n",
    "print(r)"
   ]
  },
  {
   "cell_type": "code",
   "execution_count": 7,
   "id": "8fabd60a",
   "metadata": {},
   "outputs": [
    {
     "name": "stdout",
     "output_type": "stream",
     "text": [
      "[[ 3  9  7]\n",
      " [ 3 11  7]\n",
      " [12  8 16]]\n"
     ]
    }
   ],
   "source": [
    "#exercice4\n",
    "import numpy as np\n",
    "a = np.array([[3,8,5],[0,7,2],[6,1,8]])\n",
    "b= np.array([[0,1,2],[3,4,5],[6,7,8]])\n",
    "c=a+b\n",
    "print(c)"
   ]
  },
  {
   "cell_type": "code",
   "execution_count": 8,
   "id": "67b2784b",
   "metadata": {},
   "outputs": [
    {
     "name": "stdout",
     "output_type": "stream",
     "text": [
      "5.5\n",
      "Y= -4.5\n",
      "Y= -1.5\n",
      "Y= -0.5\n",
      "Y= 6.5\n",
      "5.5\n",
      "Y= -0.5\n",
      "Y= 2.5\n",
      "Y= 3.5\n",
      "Y= -5.5\n",
      "10.75\n",
      "Y= -4.75\n",
      "Y= -3.75\n",
      "Y= 0.25\n",
      "Y= 8.25\n"
     ]
    }
   ],
   "source": [
    "#exercice5\n",
    "import numpy as np\n",
    "a = np.array([[1, 4, 5, 12], \n",
    "    [5, 8, 9, 0],\n",
    "    [6, 7, 11, 19]])\n",
    "for i in a:\n",
    "    y=i.mean()\n",
    "    print (y)\n",
    "    for j in i:\n",
    "        Y=j-y\n",
    "        print(\"Y=\",Y)"
   ]
  },
  {
   "cell_type": "code",
   "execution_count": null,
   "id": "777c5818",
   "metadata": {},
   "outputs": [],
   "source": []
  }
 ],
 "metadata": {
  "kernelspec": {
   "display_name": "Python 3",
   "language": "python",
   "name": "python3"
  },
  "language_info": {
   "codemirror_mode": {
    "name": "ipython",
    "version": 3
   },
   "file_extension": ".py",
   "mimetype": "text/x-python",
   "name": "python",
   "nbconvert_exporter": "python",
   "pygments_lexer": "ipython3",
   "version": "3.8.8"
  }
 },
 "nbformat": 4,
 "nbformat_minor": 5
}
