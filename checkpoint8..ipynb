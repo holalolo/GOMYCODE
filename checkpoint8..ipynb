{
 "cells": [
  {
   "cell_type": "code",
   "execution_count": 12,
   "id": "fee9dc7c",
   "metadata": {},
   "outputs": [
    {
     "name": "stdout",
     "output_type": "stream",
     "text": [
      "What is Python language?                                                \n",
      "Python is a widely used high-level, general-purpose, interpreted, dynamic programming language.Its design philosophy emphasizes code readability, and its syntax allows programmers to express concepts in fewer lines of code than possible in \n",
      "languages such as C++ or Java. \n",
      "Python supports multiple programming paradigms, including object-oriented, imperative and functional programming or procedural styles. It features a dynamic type system and automatic memory management and has a large and comprehensive standard library.The best way we learn anything is by practice and exercise questions. We  have started this section for those (beginner to intermediate) who are familiar with Python.\n"
     ]
    }
   ],
   "source": [
    "#exercice1\n",
    "f = open(\"python (1).txt\",'r')\n",
    "content=f.read()\n",
    "print(content)"
   ]
  },
  {
   "cell_type": "code",
   "execution_count": 13,
   "id": "b3a0e3cd",
   "metadata": {},
   "outputs": [
    {
     "name": "stdout",
     "output_type": "stream",
     "text": [
      "how many lines: 3\n",
      "What is Python language?                                                \n",
      "\n",
      "Python is a widely used high-level, general-purpose, interpreted, dynamic programming language.Its design philosophy emphasizes code readability, and its syntax allows programmers to express concepts in fewer lines of code than possible in \n",
      "\n",
      "languages such as C++ or Java. \n",
      "\n"
     ]
    }
   ],
   "source": [
    "#exercice2\n",
    "f = open(\"python (1).txt\",'r')\n",
    "for i in range(int(input('how many lines: '))):\n",
    "    print(f.readline())"
   ]
  },
  {
   "cell_type": "code",
   "execution_count": 14,
   "id": "b62f377a",
   "metadata": {},
   "outputs": [
    {
     "name": "stdout",
     "output_type": "stream",
     "text": [
      "how many lines: 2\n",
      "languages such as C++ or Java. \n",
      "Python supports multiple programming paradigms, including object-oriented, imperative and functional programming or procedural styles. It features a dynamic type system and automatic memory management and has a large and comprehensive standard library.The best way we learn anything is by practice and exercise questions. We  have started this section for those (beginner to intermediate) who are familiar with Python.\n",
      "\n"
     ]
    }
   ],
   "source": [
    "#exercice3\n",
    "f = open(\"python (1).txt\",'r')\n",
    "w=int(input('how many lines: '))\n",
    "for i in range(w):\n",
    "    x=f.readline()\n",
    "    y=f.readline()\n",
    "    z=f.readline()\n",
    "    a=f.readline()\n",
    "    if w==1:\n",
    "        print(a)\n",
    "    elif w==2:\n",
    "        print(z+a)\n",
    "    elif w==3:\n",
    "        print(y+z+a)\n",
    "    else:\n",
    "        print(x+y+z+a)"
   ]
  },
  {
   "cell_type": "code",
   "execution_count": 15,
   "id": "b01b6d5b",
   "metadata": {},
   "outputs": [
    {
     "name": "stdout",
     "output_type": "stream",
     "text": [
      "how many lines: 1\n",
      "Python supports multiple programming paradigms, including object-oriented, imperative and functional programming or procedural styles. It features a dynamic type system and automatic memory management and has a large and comprehensive standard library.The best way we learn anything is by practice and exercise questions. We  have started this section for those (beginner to intermediate) who are familiar with Python.\n"
     ]
    }
   ],
   "source": [
    "#exercice3\n",
    "f = open(\"python (1).txt\",'r')\n",
    "w=int(input('how many lines: '))\n",
    "lines=f.readlines()\n",
    "last_lines=lines[-w:]\n",
    "for i in last_lines:\n",
    "    print(i)"
   ]
  },
  {
   "cell_type": "code",
   "execution_count": 16,
   "id": "d54d72c5",
   "metadata": {},
   "outputs": [
    {
     "name": "stdout",
     "output_type": "stream",
     "text": [
      "148\n"
     ]
    }
   ],
   "source": [
    "#exercice 4\n",
    "def count_words(filepath):\n",
    "    with open(filepath) as f:\n",
    "        data = f.read()\n",
    "        data.replace(\",\", \" \")\n",
    "        return len(data.split(\" \"))\n",
    "print(count_words(\"python (1).txt\"))"
   ]
  }
 ],
 "metadata": {
  "kernelspec": {
   "display_name": "Python 3",
   "language": "python",
   "name": "python3"
  },
  "language_info": {
   "codemirror_mode": {
    "name": "ipython",
    "version": 3
   },
   "file_extension": ".py",
   "mimetype": "text/x-python",
   "name": "python",
   "nbconvert_exporter": "python",
   "pygments_lexer": "ipython3",
   "version": "3.8.8"
  }
 },
 "nbformat": 4,
 "nbformat_minor": 5
}
